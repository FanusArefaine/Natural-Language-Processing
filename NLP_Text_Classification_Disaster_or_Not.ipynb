{
  "nbformat": 4,
  "nbformat_minor": 0,
  "metadata": {
    "colab": {
      "name": "NLP Text Classification - Disaster or Not.ipynb",
      "provenance": [],
      "authorship_tag": "ABX9TyM52btltfCWyTbjgr12GvH2",
      "include_colab_link": true
    },
    "kernelspec": {
      "name": "python3",
      "display_name": "Python 3"
    }
  },
  "cells": [
    {
      "cell_type": "markdown",
      "metadata": {
        "id": "view-in-github",
        "colab_type": "text"
      },
      "source": [
        "<a href=\"https://colab.research.google.com/github/FanusArefaine/Natural-Language-Processing/blob/main/NLP_Text_Classification_Disaster_or_Not.ipynb\" target=\"_parent\"><img src=\"https://colab.research.google.com/assets/colab-badge.svg\" alt=\"Open In Colab\"/></a>"
      ]
    },
    {
      "cell_type": "code",
      "metadata": {
        "colab": {
          "base_uri": "https://localhost:8080/"
        },
        "id": "fUq7qv39vImc",
        "outputId": "a8fde9e0-a06d-4a17-8c53-db226b986ec1"
      },
      "source": [
        "from google.colab import drive \n",
        "drive.mount('/content/drive')"
      ],
      "execution_count": 1,
      "outputs": [
        {
          "output_type": "stream",
          "text": [
            "Drive already mounted at /content/drive; to attempt to forcibly remount, call drive.mount(\"/content/drive\", force_remount=True).\n"
          ],
          "name": "stdout"
        }
      ]
    },
    {
      "cell_type": "code",
      "metadata": {
        "id": "BdUdEAZluY7_"
      },
      "source": [
        "import numpy as np \n",
        "import pandas as pd \n",
        "import seaborn as sns \n",
        "import matplotlib.pyplot as plt \n",
        "\n",
        "from collections import Counter "
      ],
      "execution_count": 4,
      "outputs": []
    },
    {
      "cell_type": "markdown",
      "metadata": {
        "id": "kShUAey3ulu6"
      },
      "source": [
        "### **Importing Training and Testing Dataset**"
      ]
    },
    {
      "cell_type": "code",
      "metadata": {
        "id": "Sx0bfB8NugnY",
        "colab": {
          "base_uri": "https://localhost:8080/",
          "height": 204
        },
        "outputId": "0860ac64-be26-497b-f5e1-941546a25294"
      },
      "source": [
        "train_df = pd.read_csv('Datasets/train.csv')\n",
        "train_df.head()"
      ],
      "execution_count": 5,
      "outputs": [
        {
          "output_type": "execute_result",
          "data": {
            "text/html": [
              "<div>\n",
              "<style scoped>\n",
              "    .dataframe tbody tr th:only-of-type {\n",
              "        vertical-align: middle;\n",
              "    }\n",
              "\n",
              "    .dataframe tbody tr th {\n",
              "        vertical-align: top;\n",
              "    }\n",
              "\n",
              "    .dataframe thead th {\n",
              "        text-align: right;\n",
              "    }\n",
              "</style>\n",
              "<table border=\"1\" class=\"dataframe\">\n",
              "  <thead>\n",
              "    <tr style=\"text-align: right;\">\n",
              "      <th></th>\n",
              "      <th>id</th>\n",
              "      <th>keyword</th>\n",
              "      <th>location</th>\n",
              "      <th>text</th>\n",
              "      <th>target</th>\n",
              "    </tr>\n",
              "  </thead>\n",
              "  <tbody>\n",
              "    <tr>\n",
              "      <th>0</th>\n",
              "      <td>1</td>\n",
              "      <td>NaN</td>\n",
              "      <td>NaN</td>\n",
              "      <td>Our Deeds are the Reason of this #earthquake M...</td>\n",
              "      <td>1</td>\n",
              "    </tr>\n",
              "    <tr>\n",
              "      <th>1</th>\n",
              "      <td>4</td>\n",
              "      <td>NaN</td>\n",
              "      <td>NaN</td>\n",
              "      <td>Forest fire near La Ronge Sask. Canada</td>\n",
              "      <td>1</td>\n",
              "    </tr>\n",
              "    <tr>\n",
              "      <th>2</th>\n",
              "      <td>5</td>\n",
              "      <td>NaN</td>\n",
              "      <td>NaN</td>\n",
              "      <td>All residents asked to 'shelter in place' are ...</td>\n",
              "      <td>1</td>\n",
              "    </tr>\n",
              "    <tr>\n",
              "      <th>3</th>\n",
              "      <td>6</td>\n",
              "      <td>NaN</td>\n",
              "      <td>NaN</td>\n",
              "      <td>13,000 people receive #wildfires evacuation or...</td>\n",
              "      <td>1</td>\n",
              "    </tr>\n",
              "    <tr>\n",
              "      <th>4</th>\n",
              "      <td>7</td>\n",
              "      <td>NaN</td>\n",
              "      <td>NaN</td>\n",
              "      <td>Just got sent this photo from Ruby #Alaska as ...</td>\n",
              "      <td>1</td>\n",
              "    </tr>\n",
              "  </tbody>\n",
              "</table>\n",
              "</div>"
            ],
            "text/plain": [
              "   id keyword  ...                                               text target\n",
              "0   1     NaN  ...  Our Deeds are the Reason of this #earthquake M...      1\n",
              "1   4     NaN  ...             Forest fire near La Ronge Sask. Canada      1\n",
              "2   5     NaN  ...  All residents asked to 'shelter in place' are ...      1\n",
              "3   6     NaN  ...  13,000 people receive #wildfires evacuation or...      1\n",
              "4   7     NaN  ...  Just got sent this photo from Ruby #Alaska as ...      1\n",
              "\n",
              "[5 rows x 5 columns]"
            ]
          },
          "metadata": {
            "tags": []
          },
          "execution_count": 5
        }
      ]
    },
    {
      "cell_type": "code",
      "metadata": {
        "colab": {
          "base_uri": "https://localhost:8080/",
          "height": 204
        },
        "id": "CLzR-n1NwONM",
        "outputId": "320f2ce8-427c-4e97-81ad-e011cf13f700"
      },
      "source": [
        "test_df = pd.read_csv('Datasets/test.csv')\n",
        "test_df.head()"
      ],
      "execution_count": 6,
      "outputs": [
        {
          "output_type": "execute_result",
          "data": {
            "text/html": [
              "<div>\n",
              "<style scoped>\n",
              "    .dataframe tbody tr th:only-of-type {\n",
              "        vertical-align: middle;\n",
              "    }\n",
              "\n",
              "    .dataframe tbody tr th {\n",
              "        vertical-align: top;\n",
              "    }\n",
              "\n",
              "    .dataframe thead th {\n",
              "        text-align: right;\n",
              "    }\n",
              "</style>\n",
              "<table border=\"1\" class=\"dataframe\">\n",
              "  <thead>\n",
              "    <tr style=\"text-align: right;\">\n",
              "      <th></th>\n",
              "      <th>id</th>\n",
              "      <th>keyword</th>\n",
              "      <th>location</th>\n",
              "      <th>text</th>\n",
              "    </tr>\n",
              "  </thead>\n",
              "  <tbody>\n",
              "    <tr>\n",
              "      <th>0</th>\n",
              "      <td>0</td>\n",
              "      <td>NaN</td>\n",
              "      <td>NaN</td>\n",
              "      <td>Just happened a terrible car crash</td>\n",
              "    </tr>\n",
              "    <tr>\n",
              "      <th>1</th>\n",
              "      <td>2</td>\n",
              "      <td>NaN</td>\n",
              "      <td>NaN</td>\n",
              "      <td>Heard about #earthquake is different cities, s...</td>\n",
              "    </tr>\n",
              "    <tr>\n",
              "      <th>2</th>\n",
              "      <td>3</td>\n",
              "      <td>NaN</td>\n",
              "      <td>NaN</td>\n",
              "      <td>there is a forest fire at spot pond, geese are...</td>\n",
              "    </tr>\n",
              "    <tr>\n",
              "      <th>3</th>\n",
              "      <td>9</td>\n",
              "      <td>NaN</td>\n",
              "      <td>NaN</td>\n",
              "      <td>Apocalypse lighting. #Spokane #wildfires</td>\n",
              "    </tr>\n",
              "    <tr>\n",
              "      <th>4</th>\n",
              "      <td>11</td>\n",
              "      <td>NaN</td>\n",
              "      <td>NaN</td>\n",
              "      <td>Typhoon Soudelor kills 28 in China and Taiwan</td>\n",
              "    </tr>\n",
              "  </tbody>\n",
              "</table>\n",
              "</div>"
            ],
            "text/plain": [
              "   id keyword location                                               text\n",
              "0   0     NaN      NaN                 Just happened a terrible car crash\n",
              "1   2     NaN      NaN  Heard about #earthquake is different cities, s...\n",
              "2   3     NaN      NaN  there is a forest fire at spot pond, geese are...\n",
              "3   9     NaN      NaN           Apocalypse lighting. #Spokane #wildfires\n",
              "4  11     NaN      NaN      Typhoon Soudelor kills 28 in China and Taiwan"
            ]
          },
          "metadata": {
            "tags": []
          },
          "execution_count": 6
        }
      ]
    },
    {
      "cell_type": "markdown",
      "metadata": {
        "id": "JgEN7YGvwib0"
      },
      "source": [
        "#### **Feature Exploration**"
      ]
    },
    {
      "cell_type": "code",
      "metadata": {
        "colab": {
          "base_uri": "https://localhost:8080/"
        },
        "id": "eUErrQTQwhlt",
        "outputId": "74ae0e0b-2d14-45d8-e77a-6efd0bde319f"
      },
      "source": [
        "print(\"Dimensions of training dataset: \", train_df.shape)\n",
        "print(\"Dimensions of testing dataset: \", test_df.shape)"
      ],
      "execution_count": 7,
      "outputs": [
        {
          "output_type": "stream",
          "text": [
            "Dimensions of training dataset:  (7613, 5)\n",
            "Dimensions of testing dataset:  (3263, 4)\n"
          ],
          "name": "stdout"
        }
      ]
    },
    {
      "cell_type": "code",
      "metadata": {
        "colab": {
          "base_uri": "https://localhost:8080/"
        },
        "id": "-M78DUb45EiB",
        "outputId": "df2f8104-9ecd-492a-9c20-c3060ce49d0f"
      },
      "source": [
        "# Distribution of target variable in training dataset [BALANCED OR NOT]\n",
        "\n",
        "# As observed below, the dataset is moderately balanced\n",
        "\n",
        "disaster_tweets = train_df[train_df['target']==1].shape[0]\n",
        "not_disaster_tweets = train_df.shape[0] - disaster_tweets\n",
        "\n",
        "print(f'Percentage of distaster tweets: {round(((disaster_tweets/train_df.shape[0])*100),2)}%')\n",
        "print(f'Percentage of not distaster tweets: {round(((not_disaster_tweets/train_df.shape[0])*100),2)}%')"
      ],
      "execution_count": 8,
      "outputs": [
        {
          "output_type": "stream",
          "text": [
            "Percentage of distaster tweets: 42.97%\n",
            "Percentage of not distaster tweets: 57.03%\n"
          ],
          "name": "stdout"
        }
      ]
    },
    {
      "cell_type": "code",
      "metadata": {
        "colab": {
          "base_uri": "https://localhost:8080/",
          "height": 404
        },
        "id": "h2W99j5MS7Qv",
        "outputId": "910cfd39-dbe4-4b45-8ca7-94b584223e24"
      },
      "source": [
        "# plotting distribution of the target variable \n",
        "\n",
        "plt.figure(figsize=(8,6))\n",
        "sns.countplot(x='target', data=train_df) \n",
        "\n",
        "plt.title(\"Disaster / No Disaster target values' distribution\")\n",
        "plt.show()"
      ],
      "execution_count": 9,
      "outputs": [
        {
          "output_type": "display_data",
          "data": {
            "image/png": "[encoded data removed]",
            "text/plain": [
              "<Figure size 576x432 with 1 Axes>"
            ]
          },
          "metadata": {
            "tags": [],
            "needs_background": "light"
          }
        }
      ]
    },
    {
      "cell_type": "code",
      "metadata": {
        "colab": {
          "base_uri": "https://localhost:8080/"
        },
        "id": "obpyZJVf03EU",
        "outputId": "a81a7630-6e66-4bbb-d63d-b6fb77189cf6"
      },
      "source": [
        "# Checking the training dataset for null values \n",
        "\n",
        "# Location has significant amount of missing values and keyword also has some missing values as shown below\n",
        "\n",
        "train_df.isnull().sum()"
      ],
      "execution_count": 10,
      "outputs": [
        {
          "output_type": "execute_result",
          "data": {
            "text/plain": [
              "id             0\n",
              "keyword       61\n",
              "location    2533\n",
              "text           0\n",
              "target         0\n",
              "dtype: int64"
            ]
          },
          "metadata": {
            "tags": []
          },
          "execution_count": 10
        }
      ]
    },
    {
      "cell_type": "code",
      "metadata": {
        "colab": {
          "base_uri": "https://localhost:8080/"
        },
        "id": "Y6Ea1_vW03AU",
        "outputId": "1d3c16d9-c099-43b6-f5e2-62479969d2b6"
      },
      "source": [
        "# Checking the testing dataset for null values \n",
        "\n",
        "# Same as the training dataset, the testing dataset has a signigincant amount of missing location feature values and also some missing values on the keyword feature \n",
        "\n",
        "test_df.isnull().sum()"
      ],
      "execution_count": 11,
      "outputs": [
        {
          "output_type": "execute_result",
          "data": {
            "text/plain": [
              "id             0\n",
              "keyword       26\n",
              "location    1105\n",
              "text           0\n",
              "dtype: int64"
            ]
          },
          "metadata": {
            "tags": []
          },
          "execution_count": 11
        }
      ]
    },
    {
      "cell_type": "markdown",
      "metadata": {
        "id": "4GeH5V4-346G"
      },
      "source": [
        "**Due to missing Values. . .**\n",
        "\n",
        "\n",
        "     'location' feature can be dropped due to high percentage of missing values. \n",
        "\n",
        "     'keyword' feature will be further analyzed for validation and potential for classifiying targets better\n",
        "\n",
        "  "
      ]
    },
    {
      "cell_type": "code",
      "metadata": {
        "id": "PthGfZSD021S"
      },
      "source": [
        "#Dropping location feature in both training and testing datasets \n",
        "\n",
        "train_df.drop(['location'], axis=1, inplace=True)\n",
        "test_df.drop(['location'], axis=1, inplace=True)"
      ],
      "execution_count": 12,
      "outputs": []
    },
    {
      "cell_type": "code",
      "metadata": {
        "colab": {
          "base_uri": "https://localhost:8080/",
          "height": 450
        },
        "id": "mI-9vTyv7Xi3",
        "outputId": "c2750662-5622-45e3-c20e-9096d3b9ab84"
      },
      "source": [
        "# Disaster tweets' keywords\n",
        "\n",
        "train_df[train_df['target']==1].groupby('keyword').count()"
      ],
      "execution_count": 13,
      "outputs": [
        {
          "output_type": "execute_result",
          "data": {
            "text/html": [
              "<div>\n",
              "<style scoped>\n",
              "    .dataframe tbody tr th:only-of-type {\n",
              "        vertical-align: middle;\n",
              "    }\n",
              "\n",
              "    .dataframe tbody tr th {\n",
              "        vertical-align: top;\n",
              "    }\n",
              "\n",
              "    .dataframe thead th {\n",
              "        text-align: right;\n",
              "    }\n",
              "</style>\n",
              "<table border=\"1\" class=\"dataframe\">\n",
              "  <thead>\n",
              "    <tr style=\"text-align: right;\">\n",
              "      <th></th>\n",
              "      <th>id</th>\n",
              "      <th>text</th>\n",
              "      <th>target</th>\n",
              "    </tr>\n",
              "    <tr>\n",
              "      <th>keyword</th>\n",
              "      <th></th>\n",
              "      <th></th>\n",
              "      <th></th>\n",
              "    </tr>\n",
              "  </thead>\n",
              "  <tbody>\n",
              "    <tr>\n",
              "      <th>ablaze</th>\n",
              "      <td>13</td>\n",
              "      <td>13</td>\n",
              "      <td>13</td>\n",
              "    </tr>\n",
              "    <tr>\n",
              "      <th>accident</th>\n",
              "      <td>24</td>\n",
              "      <td>24</td>\n",
              "      <td>24</td>\n",
              "    </tr>\n",
              "    <tr>\n",
              "      <th>airplane%20accident</th>\n",
              "      <td>30</td>\n",
              "      <td>30</td>\n",
              "      <td>30</td>\n",
              "    </tr>\n",
              "    <tr>\n",
              "      <th>ambulance</th>\n",
              "      <td>20</td>\n",
              "      <td>20</td>\n",
              "      <td>20</td>\n",
              "    </tr>\n",
              "    <tr>\n",
              "      <th>annihilated</th>\n",
              "      <td>11</td>\n",
              "      <td>11</td>\n",
              "      <td>11</td>\n",
              "    </tr>\n",
              "    <tr>\n",
              "      <th>...</th>\n",
              "      <td>...</td>\n",
              "      <td>...</td>\n",
              "      <td>...</td>\n",
              "    </tr>\n",
              "    <tr>\n",
              "      <th>wounded</th>\n",
              "      <td>26</td>\n",
              "      <td>26</td>\n",
              "      <td>26</td>\n",
              "    </tr>\n",
              "    <tr>\n",
              "      <th>wounds</th>\n",
              "      <td>10</td>\n",
              "      <td>10</td>\n",
              "      <td>10</td>\n",
              "    </tr>\n",
              "    <tr>\n",
              "      <th>wreck</th>\n",
              "      <td>7</td>\n",
              "      <td>7</td>\n",
              "      <td>7</td>\n",
              "    </tr>\n",
              "    <tr>\n",
              "      <th>wreckage</th>\n",
              "      <td>39</td>\n",
              "      <td>39</td>\n",
              "      <td>39</td>\n",
              "    </tr>\n",
              "    <tr>\n",
              "      <th>wrecked</th>\n",
              "      <td>3</td>\n",
              "      <td>3</td>\n",
              "      <td>3</td>\n",
              "    </tr>\n",
              "  </tbody>\n",
              "</table>\n",
              "<p>220 rows × 3 columns</p>\n",
              "</div>"
            ],
            "text/plain": [
              "                     id  text  target\n",
              "keyword                              \n",
              "ablaze               13    13      13\n",
              "accident             24    24      24\n",
              "airplane%20accident  30    30      30\n",
              "ambulance            20    20      20\n",
              "annihilated          11    11      11\n",
              "...                  ..   ...     ...\n",
              "wounded              26    26      26\n",
              "wounds               10    10      10\n",
              "wreck                 7     7       7\n",
              "wreckage             39    39      39\n",
              "wrecked               3     3       3\n",
              "\n",
              "[220 rows x 3 columns]"
            ]
          },
          "metadata": {
            "tags": []
          },
          "execution_count": 13
        }
      ]
    },
    {
      "cell_type": "code",
      "metadata": {
        "id": "lMEfgaUpCT6g"
      },
      "source": [
        "# exracting disaster and not disaster keywords\n",
        "\n",
        "not_disaster_keys = train_df[train_df['target']==0]['keyword'].tolist()\n",
        "disaster_keys = train_df[train_df['target']==1]['keyword'].tolist()"
      ],
      "execution_count": 14,
      "outputs": []
    },
    {
      "cell_type": "code",
      "metadata": {
        "id": "lNIxcpVBE80-"
      },
      "source": [
        "from collections import Counter \n",
        "\n",
        "# Keyword frequencies in disaster and not disaster tweets \n",
        "\n",
        "not_disaster_keys_counts_sorted = (Counter(not_disaster_keys)).most_common()\n",
        "disaster_keys_counts_sorted = (Counter(disaster_keys)).most_common()"
      ],
      "execution_count": 15,
      "outputs": []
    },
    {
      "cell_type": "code",
      "metadata": {
        "colab": {
          "base_uri": "https://localhost:8080/"
        },
        "id": "mEU37-1-CkS8",
        "outputId": "95d8d7fb-4f32-4614-e9d9-1e08de008894"
      },
      "source": [
        "# Top 20 most common keywords in not disaster tweets \n",
        "\n",
        "not_disaster_keys_counts_sorted[:20]"
      ],
      "execution_count": 16,
      "outputs": [
        {
          "output_type": "execute_result",
          "data": {
            "text/plain": [
              "[('body%20bags', 40),\n",
              " ('armageddon', 37),\n",
              " ('harm', 37),\n",
              " ('deluge', 36),\n",
              " ('ruin', 36),\n",
              " ('wrecked', 36),\n",
              " ('explode', 35),\n",
              " ('fear', 35),\n",
              " ('siren', 35),\n",
              " ('twister', 35),\n",
              " ('aftershock', 34),\n",
              " ('panic', 34),\n",
              " ('screaming', 34),\n",
              " ('blaze', 33),\n",
              " ('blazing', 33),\n",
              " ('blizzard', 33),\n",
              " ('crush', 33),\n",
              " ('sinking', 33),\n",
              " ('traumatised', 33),\n",
              " ('bloody', 32)]"
            ]
          },
          "metadata": {
            "tags": []
          },
          "execution_count": 16
        }
      ]
    },
    {
      "cell_type": "code",
      "metadata": {
        "colab": {
          "base_uri": "https://localhost:8080/"
        },
        "id": "BjIxQ5y4HOMb",
        "outputId": "6396867a-47e0-4e9b-8f49-7625931e8560"
      },
      "source": [
        "# Top 20 most common keywords in disaster tweets \n",
        "\n",
        "disaster_keys_counts_sorted[:20]"
      ],
      "execution_count": 17,
      "outputs": [
        {
          "output_type": "execute_result",
          "data": {
            "text/plain": [
              "[(nan, 42),\n",
              " ('derailment', 39),\n",
              " ('outbreak', 39),\n",
              " ('wreckage', 39),\n",
              " ('debris', 37),\n",
              " ('oil%20spill', 37),\n",
              " ('typhoon', 37),\n",
              " ('evacuated', 32),\n",
              " ('rescuers', 32),\n",
              " ('suicide%20bomb', 32),\n",
              " ('suicide%20bombing', 32),\n",
              " ('nuclear%20disaster', 31),\n",
              " ('razed', 31),\n",
              " ('airplane%20accident', 30),\n",
              " ('earthquake', 30),\n",
              " ('suicide%20bomber', 30),\n",
              " ('bridge%20collapse', 29),\n",
              " ('collision', 29),\n",
              " ('wildfire', 29),\n",
              " ('buildings%20on%20fire', 28)]"
            ]
          },
          "metadata": {
            "tags": []
          },
          "execution_count": 17
        }
      ]
    },
    {
      "cell_type": "code",
      "metadata": {
        "colab": {
          "base_uri": "https://localhost:8080/"
        },
        "id": "cXOEtWQcHOHf",
        "outputId": "7b8c4f3d-145b-4a83-bc98-9c24d5a24ecb"
      },
      "source": [
        "# Common keywords in disaster and not disaster tweets \n",
        "\n",
        "common_keys = list(set(not_disaster_keys).intersection(set(disaster_keys)))\n",
        "print(f'Number of common words in disaster and not disaster tweets: {len(common_keys)}\\n')\n",
        "common_keys"
      ],
      "execution_count": 18,
      "outputs": [
        {
          "output_type": "stream",
          "text": [
            "Number of common words in disaster and not disaster tweets: 218\n",
            "\n"
          ],
          "name": "stdout"
        },
        {
          "output_type": "execute_result",
          "data": {
            "text/plain": [
              "[nan,\n",
              " 'blown%20up',\n",
              " 'upheaval',\n",
              " 'curfew',\n",
              " 'attack',\n",
              " 'deaths',\n",
              " 'fatality',\n",
              " 'epicentre',\n",
              " 'mass%20murderer',\n",
              " 'floods',\n",
              " 'hail',\n",
              " 'inundation',\n",
              " 'emergency',\n",
              " 'fatal',\n",
              " 'desolation',\n",
              " 'blood',\n",
              " 'first%20responders',\n",
              " 'hijack',\n",
              " 'traumatised',\n",
              " 'derail',\n",
              " 'lava',\n",
              " 'siren',\n",
              " 'ruin',\n",
              " 'screamed',\n",
              " 'war%20zone',\n",
              " 'flood',\n",
              " 'seismic',\n",
              " 'quarantined',\n",
              " 'collapse',\n",
              " 'bomb',\n",
              " 'collision',\n",
              " 'damage',\n",
              " 'electrocute',\n",
              " 'hijacker',\n",
              " 'body%20bagging',\n",
              " 'hostage',\n",
              " 'screams',\n",
              " 'bridge%20collapse',\n",
              " 'panicking',\n",
              " 'razed',\n",
              " 'mudslide',\n",
              " 'cliff%20fall',\n",
              " 'eyewitness',\n",
              " 'ablaze',\n",
              " 'crashed',\n",
              " 'typhoon',\n",
              " 'meltdown',\n",
              " 'catastrophe',\n",
              " 'disaster',\n",
              " 'electrocuted',\n",
              " 'refugees',\n",
              " 'emergency%20services',\n",
              " 'rubble',\n",
              " 'violent%20storm',\n",
              " 'evacuated',\n",
              " 'heat%20wave',\n",
              " 'explode',\n",
              " 'smoke',\n",
              " 'famine',\n",
              " 'thunderstorm',\n",
              " 'rioting',\n",
              " 'terrorist',\n",
              " 'hazard',\n",
              " 'battle',\n",
              " 'bush%20fires',\n",
              " 'sinking',\n",
              " 'deluged',\n",
              " 'blaze',\n",
              " 'injury',\n",
              " 'arsonist',\n",
              " 'crash',\n",
              " 'nuclear%20disaster',\n",
              " 'devastation',\n",
              " 'screaming',\n",
              " 'airplane%20accident',\n",
              " 'blizzard',\n",
              " 'detonation',\n",
              " 'suicide%20bombing',\n",
              " 'obliterated',\n",
              " 'trapped',\n",
              " 'body%20bags',\n",
              " 'thunder',\n",
              " 'rescuers',\n",
              " 'hostages',\n",
              " 'whirlwind',\n",
              " 'hellfire',\n",
              " 'annihilated',\n",
              " 'blazing',\n",
              " 'wild%20fires',\n",
              " 'outbreak',\n",
              " 'sunk',\n",
              " 'collapsed',\n",
              " 'deluge',\n",
              " 'dust%20storm',\n",
              " 'flooding',\n",
              " 'body%20bag',\n",
              " 'drown',\n",
              " 'buildings%20burning',\n",
              " 'engulfed',\n",
              " 'survived',\n",
              " 'drought',\n",
              " 'loud%20bang',\n",
              " 'flames',\n",
              " 'explosion',\n",
              " 'hazardous',\n",
              " 'injured',\n",
              " 'rescue',\n",
              " 'twister',\n",
              " 'demolition',\n",
              " 'military',\n",
              " 'avalanche',\n",
              " 'massacre',\n",
              " 'catastrophic',\n",
              " 'annihilation',\n",
              " 'volcano',\n",
              " 'bioterrorism',\n",
              " 'fire%20truck',\n",
              " 'tornado',\n",
              " 'weapon',\n",
              " 'wounds',\n",
              " 'bombing',\n",
              " 'flattened',\n",
              " 'drowning',\n",
              " 'lightning',\n",
              " 'death',\n",
              " 'bloody',\n",
              " 'natural%20disaster',\n",
              " 'mass%20murder',\n",
              " 'casualty',\n",
              " 'collide',\n",
              " 'forest%20fires',\n",
              " 'harm',\n",
              " 'police',\n",
              " 'survive',\n",
              " 'terrorism',\n",
              " 'emergency%20plan',\n",
              " 'sandstorm',\n",
              " 'inundated',\n",
              " 'windstorm',\n",
              " 'hijacking',\n",
              " 'fire',\n",
              " 'casualties',\n",
              " 'panic',\n",
              " 'radiation%20emergency',\n",
              " 'devastated',\n",
              " 'hailstorm',\n",
              " 'rescued',\n",
              " 'bleeding',\n",
              " 'fatalities',\n",
              " 'tragedy',\n",
              " 'attacked',\n",
              " 'nuclear%20reactor',\n",
              " 'snowstorm',\n",
              " 'obliteration',\n",
              " 'drowned',\n",
              " 'storm',\n",
              " 'survivors',\n",
              " 'dead',\n",
              " 'danger',\n",
              " 'derailed',\n",
              " 'arson',\n",
              " 'burned',\n",
              " 'chemical%20emergency',\n",
              " 'apocalypse',\n",
              " 'sirens',\n",
              " 'destroyed',\n",
              " 'cyclone',\n",
              " 'obliterate',\n",
              " 'evacuate',\n",
              " 'suicide%20bomber',\n",
              " 'injuries',\n",
              " 'suicide%20bomb',\n",
              " 'exploded',\n",
              " 'wrecked',\n",
              " 'fear',\n",
              " 'crushed',\n",
              " 'weapons',\n",
              " 'blight',\n",
              " 'evacuation',\n",
              " 'landslide',\n",
              " 'crush',\n",
              " 'tsunami',\n",
              " 'wildfire',\n",
              " 'army',\n",
              " 'quarantine',\n",
              " 'earthquake',\n",
              " 'mayhem',\n",
              " 'buildings%20on%20fire',\n",
              " 'sinkhole',\n",
              " 'ambulance',\n",
              " 'pandemonium',\n",
              " 'stretcher',\n",
              " 'wreck',\n",
              " 'destroy',\n",
              " 'oil%20spill',\n",
              " 'accident',\n",
              " 'blew%20up',\n",
              " 'trouble',\n",
              " 'demolish',\n",
              " 'desolate',\n",
              " 'armageddon',\n",
              " 'demolished',\n",
              " 'burning',\n",
              " 'wounded',\n",
              " 'structural%20failure',\n",
              " 'destruction',\n",
              " 'hurricane',\n",
              " 'displaced',\n",
              " 'bioterror',\n",
              " 'rainstorm',\n",
              " 'burning%20buildings',\n",
              " 'bombed',\n",
              " 'forest%20fire',\n",
              " 'trauma',\n",
              " 'detonate',\n",
              " 'threat',\n",
              " 'collided',\n",
              " 'riot']"
            ]
          },
          "metadata": {
            "tags": []
          },
          "execution_count": 18
        }
      ]
    },
    {
      "cell_type": "code",
      "metadata": {
        "colab": {
          "base_uri": "https://localhost:8080/"
        },
        "id": "vr-gz71tHODQ",
        "outputId": "6954d7a7-bb63-41c3-cd29-5e9b01e06a03"
      },
      "source": [
        "# Checking how many times the above common words appeared in non disaster tweets \n",
        "\n",
        "not_disaster_common_keys = sum([1 for word in not_disaster_keys if word in common_keys])\n",
        "print(f'There is an occurence of {not_disaster_common_keys} common keywords out of total {len(not_disaster_keys)} not disaster keywords.')"
      ],
      "execution_count": 19,
      "outputs": [
        {
          "output_type": "stream",
          "text": [
            "There is an occurence of 4308 common keywords out of total 4342 not disaster keywords.\n"
          ],
          "name": "stdout"
        }
      ]
    },
    {
      "cell_type": "code",
      "metadata": {
        "colab": {
          "base_uri": "https://localhost:8080/"
        },
        "id": "3M8fzbr4HN_d",
        "outputId": "f1945a91-bfe0-4d98-a0f5-602494f4510d"
      },
      "source": [
        "# Checking how many times the above common words appeared in disaster tweets \n",
        "\n",
        "\n",
        "disaster_common_keys = sum([1 for word in disaster_keys if word in common_keys])\n",
        "print(f'There is an occurence of {disaster_common_keys} common keywords out of total {len(disaster_keys)} disaster keywords.')"
      ],
      "execution_count": 20,
      "outputs": [
        {
          "output_type": "stream",
          "text": [
            "There is an occurence of 3156 common keywords out of total 3271 disaster keywords.\n"
          ],
          "name": "stdout"
        }
      ]
    },
    {
      "cell_type": "markdown",
      "metadata": {
        "id": "EXyb1MQaNMGB"
      },
      "source": [
        "#### **As shown above . . .**\n",
        "\n",
        "\n",
        "      Disaster and Not disaster tweets share most of the keywords. \n",
        "\n",
        "      Keeping the keywords might otherwise mislead the classification algorithm. \n",
        "\n",
        "      Hence, dropping the 'keyword' feature would be a wise idea.\n",
        "\n"
      ]
    },
    {
      "cell_type": "code",
      "metadata": {
        "id": "r1kXN0UNNK2L"
      },
      "source": [
        "# Dropping tweets with missing 'keyword' feature\n",
        "\n",
        "train_df.drop(['keyword'], axis=1, inplace=True)\n",
        "test_df.drop(['keyword'], axis=1, inplace=True)"
      ],
      "execution_count": 21,
      "outputs": []
    },
    {
      "cell_type": "code",
      "metadata": {
        "id": "bSugui63UQ4o"
      },
      "source": [
        "# Training and Testing 'id' will be handy for submission, hence it is wise to save 'id' at this section and focus on the 'text' feature\n",
        "\n",
        "train_id = train_df['id']\n",
        "test_id = test_df['id']\n",
        "\n",
        "\n",
        "# Dropping 'id' feature \n",
        "\n",
        "train_df.drop(['id'], axis=1, inplace=True)\n",
        "test_df.drop(['id'], axis=1, inplace=True)"
      ],
      "execution_count": 22,
      "outputs": []
    },
    {
      "cell_type": "code",
      "metadata": {
        "colab": {
          "base_uri": "https://localhost:8080/",
          "height": 204
        },
        "id": "tFd_85ZO49LE",
        "outputId": "234780e8-93dd-482e-e70f-e1a356bd803c"
      },
      "source": [
        "train_df.head()"
      ],
      "execution_count": 23,
      "outputs": [
        {
          "output_type": "execute_result",
          "data": {
            "text/html": [
              "<div>\n",
              "<style scoped>\n",
              "    .dataframe tbody tr th:only-of-type {\n",
              "        vertical-align: middle;\n",
              "    }\n",
              "\n",
              "    .dataframe tbody tr th {\n",
              "        vertical-align: top;\n",
              "    }\n",
              "\n",
              "    .dataframe thead th {\n",
              "        text-align: right;\n",
              "    }\n",
              "</style>\n",
              "<table border=\"1\" class=\"dataframe\">\n",
              "  <thead>\n",
              "    <tr style=\"text-align: right;\">\n",
              "      <th></th>\n",
              "      <th>text</th>\n",
              "      <th>target</th>\n",
              "    </tr>\n",
              "  </thead>\n",
              "  <tbody>\n",
              "    <tr>\n",
              "      <th>0</th>\n",
              "      <td>Our Deeds are the Reason of this #earthquake M...</td>\n",
              "      <td>1</td>\n",
              "    </tr>\n",
              "    <tr>\n",
              "      <th>1</th>\n",
              "      <td>Forest fire near La Ronge Sask. Canada</td>\n",
              "      <td>1</td>\n",
              "    </tr>\n",
              "    <tr>\n",
              "      <th>2</th>\n",
              "      <td>All residents asked to 'shelter in place' are ...</td>\n",
              "      <td>1</td>\n",
              "    </tr>\n",
              "    <tr>\n",
              "      <th>3</th>\n",
              "      <td>13,000 people receive #wildfires evacuation or...</td>\n",
              "      <td>1</td>\n",
              "    </tr>\n",
              "    <tr>\n",
              "      <th>4</th>\n",
              "      <td>Just got sent this photo from Ruby #Alaska as ...</td>\n",
              "      <td>1</td>\n",
              "    </tr>\n",
              "  </tbody>\n",
              "</table>\n",
              "</div>"
            ],
            "text/plain": [
              "                                                text  target\n",
              "0  Our Deeds are the Reason of this #earthquake M...       1\n",
              "1             Forest fire near La Ronge Sask. Canada       1\n",
              "2  All residents asked to 'shelter in place' are ...       1\n",
              "3  13,000 people receive #wildfires evacuation or...       1\n",
              "4  Just got sent this photo from Ruby #Alaska as ...       1"
            ]
          },
          "metadata": {
            "tags": []
          },
          "execution_count": 23
        }
      ]
    },
    {
      "cell_type": "code",
      "metadata": {
        "colab": {
          "base_uri": "https://localhost:8080/",
          "height": 204
        },
        "id": "DwxI6xFcwdBy",
        "outputId": "ca8ad925-1455-4534-c6d6-3b01b8a8e993"
      },
      "source": [
        "test_df.head()"
      ],
      "execution_count": 24,
      "outputs": [
        {
          "output_type": "execute_result",
          "data": {
            "text/html": [
              "<div>\n",
              "<style scoped>\n",
              "    .dataframe tbody tr th:only-of-type {\n",
              "        vertical-align: middle;\n",
              "    }\n",
              "\n",
              "    .dataframe tbody tr th {\n",
              "        vertical-align: top;\n",
              "    }\n",
              "\n",
              "    .dataframe thead th {\n",
              "        text-align: right;\n",
              "    }\n",
              "</style>\n",
              "<table border=\"1\" class=\"dataframe\">\n",
              "  <thead>\n",
              "    <tr style=\"text-align: right;\">\n",
              "      <th></th>\n",
              "      <th>text</th>\n",
              "    </tr>\n",
              "  </thead>\n",
              "  <tbody>\n",
              "    <tr>\n",
              "      <th>0</th>\n",
              "      <td>Just happened a terrible car crash</td>\n",
              "    </tr>\n",
              "    <tr>\n",
              "      <th>1</th>\n",
              "      <td>Heard about #earthquake is different cities, s...</td>\n",
              "    </tr>\n",
              "    <tr>\n",
              "      <th>2</th>\n",
              "      <td>there is a forest fire at spot pond, geese are...</td>\n",
              "    </tr>\n",
              "    <tr>\n",
              "      <th>3</th>\n",
              "      <td>Apocalypse lighting. #Spokane #wildfires</td>\n",
              "    </tr>\n",
              "    <tr>\n",
              "      <th>4</th>\n",
              "      <td>Typhoon Soudelor kills 28 in China and Taiwan</td>\n",
              "    </tr>\n",
              "  </tbody>\n",
              "</table>\n",
              "</div>"
            ],
            "text/plain": [
              "                                                text\n",
              "0                 Just happened a terrible car crash\n",
              "1  Heard about #earthquake is different cities, s...\n",
              "2  there is a forest fire at spot pond, geese are...\n",
              "3           Apocalypse lighting. #Spokane #wildfires\n",
              "4      Typhoon Soudelor kills 28 in China and Taiwan"
            ]
          },
          "metadata": {
            "tags": []
          },
          "execution_count": 24
        }
      ]
    },
    {
      "cell_type": "code",
      "metadata": {
        "id": "IdJOris-ypIE"
      },
      "source": [
        ""
      ],
      "execution_count": 24,
      "outputs": []
    },
    {
      "cell_type": "markdown",
      "metadata": {
        "id": "nB386EkhVmFq"
      },
      "source": [
        "## **Feature Creation** \n",
        "\n",
        "\n",
        "      In the following section, I will create more features that have better potential to classify the target\n",
        "\n",
        "            - Features that can be derived from the 'text' feature include:\n",
        "\n",
        "                + Word Count \n",
        "                + Unique Word Count \n",
        "                + Character Count \n",
        "                + Stopword Count \n",
        "                + Punctuation Count \n",
        "                + Mean Word Length \n",
        "                + Mention Count \n",
        "                + URL Count \n",
        "                + Hashtag Count \n"
      ]
    },
    {
      "cell_type": "code",
      "metadata": {
        "id": "jEtebMOiYApX"
      },
      "source": [
        "def distribution_plot(df, feature_name):\n",
        "    plt.subplots(figsize=(10,6))\n",
        "\n",
        "    \"\"\"\n",
        "        A function to plot distribution of a feature\n",
        "        against the target values for comparison.\n",
        "\n",
        "        df: input dataframe \n",
        "\n",
        "        feature_name: input name of the feature to plot \n",
        "        against the target value\n",
        "\n",
        "        output of the function is a plot\n",
        "    \"\"\"\n",
        "    \n",
        "    sns.set_theme()\n",
        "\n",
        "    ax = sns.distplot(df[feature_name][df['target']==0], color='green', label='Not a disaster tweet')\n",
        "    ax = sns.distplot(df[feature_name][df['target']==1], color='blue', label='Disaster tweet')\n",
        "    plt.title(\"Training Dataset \" + feature_name + \" Distribution\")\n",
        "    plt.legend()\n",
        "    plt.show()\n"
      ],
      "execution_count": 34,
      "outputs": []
    },
    {
      "cell_type": "markdown",
      "metadata": {
        "id": "Wxia5L8HWvd7"
      },
      "source": [
        "##### **Word Count**"
      ]
    },
    {
      "cell_type": "code",
      "metadata": {
        "id": "o_XhnYHnWt_B"
      },
      "source": [
        "# Word count implementation and applying to the train and testing dfs\n",
        "\n",
        "def word_count(df):\n",
        "  df['word_count'] = [len(sentence.split()) for sentence in df['text']]\n",
        "  return df\n",
        "\n",
        "\n",
        "train_df = word_count(train_df)\n",
        "test_df = word_count(test_df)"
      ],
      "execution_count": 26,
      "outputs": []
    },
    {
      "cell_type": "code",
      "metadata": {
        "colab": {
          "base_uri": "https://localhost:8080/",
          "height": 410
        },
        "id": "650Jb_1wVlZV",
        "outputId": "54b75355-015a-4260-8d18-ef126839bb2b"
      },
      "source": [
        "# word count distribution against target in train dataset \n",
        "distribution_plot(train_df, 'word_count')"
      ],
      "execution_count": 36,
      "outputs": [
        {
          "output_type": "display_data",
          "data": {
            "image/png": "[encoded data removed]",
            "text/plain": [
              "<Figure size 720x432 with 1 Axes>"
            ]
          },
          "metadata": {
            "tags": []
          }
        }
      ]
    },
    {
      "cell_type": "code",
      "metadata": {
        "id": "uFVl7kzeXW57"
      },
      "source": [
        ""
      ],
      "execution_count": null,
      "outputs": []
    },
    {
      "cell_type": "markdown",
      "metadata": {
        "id": "qXwB3U33inX3"
      },
      "source": [
        "#### **Unique Word Count**"
      ]
    },
    {
      "cell_type": "code",
      "metadata": {
        "id": "kyymJ3HdipxV"
      },
      "source": [
        "# Creating unique word count feature in training and testing datasets \n",
        "\n",
        "def unique_word_count(df):\n",
        "  df['unique_word_count'] = [len(set(sentence.split())) for sentence in df['text']]\n",
        "  return df\n",
        "\n",
        "\n",
        "train_df = unique_word_count(train_df)\n",
        "test_df = unique_word_count(test_df)"
      ],
      "execution_count": 41,
      "outputs": []
    },
    {
      "cell_type": "code",
      "metadata": {
        "colab": {
          "base_uri": "https://localhost:8080/",
          "height": 410
        },
        "id": "0dWygBO2jCZn",
        "outputId": "41586d2c-477f-4eaf-c246-81b65da2903b"
      },
      "source": [
        "# unique word count distribution against target in train dataset \n",
        "distribution_plot(train_df, 'unique_word_count')"
      ],
      "execution_count": 42,
      "outputs": [
        {
          "output_type": "display_data",
          "data": {
            "image/png": "[encoded data removed]",
            "text/plain": [
              "<Figure size 720x432 with 1 Axes>"
            ]
          },
          "metadata": {
            "tags": []
          }
        }
      ]
    },
    {
      "cell_type": "code",
      "metadata": {
        "id": "Z232Cq8ij6ld"
      },
      "source": [
        ""
      ],
      "execution_count": null,
      "outputs": []
    },
    {
      "cell_type": "markdown",
      "metadata": {
        "id": "crOj_et9kJA-"
      },
      "source": [
        "#### **Character Count**"
      ]
    },
    {
      "cell_type": "code",
      "metadata": {
        "id": "0LUqLkUhkHhu"
      },
      "source": [
        "# Creating a 'character count' feature \n",
        "\n",
        "def character_count(df):\n",
        "  df['character_count'] = [len(str(sentence)) for sentence in df['text']]\n",
        "  return df \n",
        "\n",
        "\n",
        "train_df = character_count(train_df)\n",
        "test_df = character_count(test_df)"
      ],
      "execution_count": 47,
      "outputs": []
    },
    {
      "cell_type": "code",
      "metadata": {
        "colab": {
          "base_uri": "https://localhost:8080/",
          "height": 410
        },
        "id": "k7biCUiAlA6z",
        "outputId": "135e3968-289a-4b4d-ebe3-7a30fd3b8db6"
      },
      "source": [
        "# distribution of character count against target in train dataset \n",
        "\n",
        "distribution_plot(train_df, 'character_count')"
      ],
      "execution_count": 48,
      "outputs": [
        {
          "output_type": "display_data",
          "data": {
            "image/png": "[encoded data removed]",
            "text/plain": [
              "<Figure size 720x432 with 1 Axes>"
            ]
          },
          "metadata": {
            "tags": []
          }
        }
      ]
    },
    {
      "cell_type": "code",
      "metadata": {
        "id": "c9EbgKoLljvQ"
      },
      "source": [
        ""
      ],
      "execution_count": null,
      "outputs": []
    },
    {
      "cell_type": "markdown",
      "metadata": {
        "id": "KFQm0iF0l6Bz"
      },
      "source": [
        "#### **Stopword Count**"
      ]
    },
    {
      "cell_type": "code",
      "metadata": {
        "id": "znaSlkF6l8Mt"
      },
      "source": [
        ""
      ],
      "execution_count": null,
      "outputs": []
    }
  ]
}