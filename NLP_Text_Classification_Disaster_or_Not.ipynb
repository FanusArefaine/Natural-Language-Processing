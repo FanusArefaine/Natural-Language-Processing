{
  "nbformat": 4,
  "nbformat_minor": 0,
  "metadata": {
    "colab": {
      "name": "NLP Text Classification - Disaster or Not.ipynb",
      "provenance": [],
      "authorship_tag": "ABX9TyPNyxDiASCmbxKiDQdkDRtH",
      "include_colab_link": true
    },
    "kernelspec": {
      "name": "python3",
      "display_name": "Python 3"
    }
  },
  "cells": [
    {
      "cell_type": "markdown",
      "metadata": {
        "id": "view-in-github",
        "colab_type": "text"
      },
      "source": [
        "<a href=\"https://colab.research.google.com/github/FanusArefaine/Natural-Language-Processing/blob/main/NLP_Text_Classification_Disaster_or_Not.ipynb\" target=\"_parent\"><img src=\"https://colab.research.google.com/assets/colab-badge.svg\" alt=\"Open In Colab\"/></a>"
      ]
    },
    {
      "cell_type": "code",
      "metadata": {
        "colab": {
          "base_uri": "https://localhost:8080/"
        },
        "id": "fUq7qv39vImc",
        "outputId": "d35fa22f-ab3b-47b6-8aaf-884aa3b963a3"
      },
      "source": [
        "from google.colab import drive \n",
        "drive.mount('/content/drive')"
      ],
      "execution_count": 4,
      "outputs": [
        {
          "output_type": "stream",
          "text": [
            "Mounted at /content/drive\n"
          ],
          "name": "stdout"
        }
      ]
    },
    {
      "cell_type": "code",
      "metadata": {
        "id": "BdUdEAZluY7_"
      },
      "source": [
        "import numpy as np \n",
        "import pandas as pd \n",
        "import matplotlib.pyplot as plt "
      ],
      "execution_count": 140,
      "outputs": []
    },
    {
      "cell_type": "markdown",
      "metadata": {
        "id": "kShUAey3ulu6"
      },
      "source": [
        "### **Importing Training and Testing Dataset**"
      ]
    },
    {
      "cell_type": "code",
      "metadata": {
        "id": "Sx0bfB8NugnY",
        "colab": {
          "base_uri": "https://localhost:8080/",
          "height": 204
        },
        "outputId": "6013ef3f-947e-47e4-8915-fb64e1757001"
      },
      "source": [
        "train_df = pd.read_csv('train.csv')\n",
        "train_df.head()"
      ],
      "execution_count": 141,
      "outputs": [
        {
          "output_type": "execute_result",
          "data": {
            "text/html": [
              "<div>\n",
              "<style scoped>\n",
              "    .dataframe tbody tr th:only-of-type {\n",
              "        vertical-align: middle;\n",
              "    }\n",
              "\n",
              "    .dataframe tbody tr th {\n",
              "        vertical-align: top;\n",
              "    }\n",
              "\n",
              "    .dataframe thead th {\n",
              "        text-align: right;\n",
              "    }\n",
              "</style>\n",
              "<table border=\"1\" class=\"dataframe\">\n",
              "  <thead>\n",
              "    <tr style=\"text-align: right;\">\n",
              "      <th></th>\n",
              "      <th>id</th>\n",
              "      <th>keyword</th>\n",
              "      <th>location</th>\n",
              "      <th>text</th>\n",
              "      <th>target</th>\n",
              "    </tr>\n",
              "  </thead>\n",
              "  <tbody>\n",
              "    <tr>\n",
              "      <th>0</th>\n",
              "      <td>1</td>\n",
              "      <td>NaN</td>\n",
              "      <td>NaN</td>\n",
              "      <td>Our Deeds are the Reason of this #earthquake M...</td>\n",
              "      <td>1</td>\n",
              "    </tr>\n",
              "    <tr>\n",
              "      <th>1</th>\n",
              "      <td>4</td>\n",
              "      <td>NaN</td>\n",
              "      <td>NaN</td>\n",
              "      <td>Forest fire near La Ronge Sask. Canada</td>\n",
              "      <td>1</td>\n",
              "    </tr>\n",
              "    <tr>\n",
              "      <th>2</th>\n",
              "      <td>5</td>\n",
              "      <td>NaN</td>\n",
              "      <td>NaN</td>\n",
              "      <td>All residents asked to 'shelter in place' are ...</td>\n",
              "      <td>1</td>\n",
              "    </tr>\n",
              "    <tr>\n",
              "      <th>3</th>\n",
              "      <td>6</td>\n",
              "      <td>NaN</td>\n",
              "      <td>NaN</td>\n",
              "      <td>13,000 people receive #wildfires evacuation or...</td>\n",
              "      <td>1</td>\n",
              "    </tr>\n",
              "    <tr>\n",
              "      <th>4</th>\n",
              "      <td>7</td>\n",
              "      <td>NaN</td>\n",
              "      <td>NaN</td>\n",
              "      <td>Just got sent this photo from Ruby #Alaska as ...</td>\n",
              "      <td>1</td>\n",
              "    </tr>\n",
              "  </tbody>\n",
              "</table>\n",
              "</div>"
            ],
            "text/plain": [
              "   id keyword  ...                                               text target\n",
              "0   1     NaN  ...  Our Deeds are the Reason of this #earthquake M...      1\n",
              "1   4     NaN  ...             Forest fire near La Ronge Sask. Canada      1\n",
              "2   5     NaN  ...  All residents asked to 'shelter in place' are ...      1\n",
              "3   6     NaN  ...  13,000 people receive #wildfires evacuation or...      1\n",
              "4   7     NaN  ...  Just got sent this photo from Ruby #Alaska as ...      1\n",
              "\n",
              "[5 rows x 5 columns]"
            ]
          },
          "metadata": {
            "tags": []
          },
          "execution_count": 141
        }
      ]
    },
    {
      "cell_type": "code",
      "metadata": {
        "colab": {
          "base_uri": "https://localhost:8080/",
          "height": 204
        },
        "id": "CLzR-n1NwONM",
        "outputId": "eae17c40-d6f9-45a0-b319-f9fe6f3376c7"
      },
      "source": [
        "test_df = pd.read_csv('test.csv')\n",
        "test_df.head()"
      ],
      "execution_count": 142,
      "outputs": [
        {
          "output_type": "execute_result",
          "data": {
            "text/html": [
              "<div>\n",
              "<style scoped>\n",
              "    .dataframe tbody tr th:only-of-type {\n",
              "        vertical-align: middle;\n",
              "    }\n",
              "\n",
              "    .dataframe tbody tr th {\n",
              "        vertical-align: top;\n",
              "    }\n",
              "\n",
              "    .dataframe thead th {\n",
              "        text-align: right;\n",
              "    }\n",
              "</style>\n",
              "<table border=\"1\" class=\"dataframe\">\n",
              "  <thead>\n",
              "    <tr style=\"text-align: right;\">\n",
              "      <th></th>\n",
              "      <th>id</th>\n",
              "      <th>keyword</th>\n",
              "      <th>location</th>\n",
              "      <th>text</th>\n",
              "    </tr>\n",
              "  </thead>\n",
              "  <tbody>\n",
              "    <tr>\n",
              "      <th>0</th>\n",
              "      <td>0</td>\n",
              "      <td>NaN</td>\n",
              "      <td>NaN</td>\n",
              "      <td>Just happened a terrible car crash</td>\n",
              "    </tr>\n",
              "    <tr>\n",
              "      <th>1</th>\n",
              "      <td>2</td>\n",
              "      <td>NaN</td>\n",
              "      <td>NaN</td>\n",
              "      <td>Heard about #earthquake is different cities, s...</td>\n",
              "    </tr>\n",
              "    <tr>\n",
              "      <th>2</th>\n",
              "      <td>3</td>\n",
              "      <td>NaN</td>\n",
              "      <td>NaN</td>\n",
              "      <td>there is a forest fire at spot pond, geese are...</td>\n",
              "    </tr>\n",
              "    <tr>\n",
              "      <th>3</th>\n",
              "      <td>9</td>\n",
              "      <td>NaN</td>\n",
              "      <td>NaN</td>\n",
              "      <td>Apocalypse lighting. #Spokane #wildfires</td>\n",
              "    </tr>\n",
              "    <tr>\n",
              "      <th>4</th>\n",
              "      <td>11</td>\n",
              "      <td>NaN</td>\n",
              "      <td>NaN</td>\n",
              "      <td>Typhoon Soudelor kills 28 in China and Taiwan</td>\n",
              "    </tr>\n",
              "  </tbody>\n",
              "</table>\n",
              "</div>"
            ],
            "text/plain": [
              "   id keyword location                                               text\n",
              "0   0     NaN      NaN                 Just happened a terrible car crash\n",
              "1   2     NaN      NaN  Heard about #earthquake is different cities, s...\n",
              "2   3     NaN      NaN  there is a forest fire at spot pond, geese are...\n",
              "3   9     NaN      NaN           Apocalypse lighting. #Spokane #wildfires\n",
              "4  11     NaN      NaN      Typhoon Soudelor kills 28 in China and Taiwan"
            ]
          },
          "metadata": {
            "tags": []
          },
          "execution_count": 142
        }
      ]
    },
    {
      "cell_type": "markdown",
      "metadata": {
        "id": "JgEN7YGvwib0"
      },
      "source": [
        "#### **Feature Exploration**"
      ]
    },
    {
      "cell_type": "code",
      "metadata": {
        "colab": {
          "base_uri": "https://localhost:8080/"
        },
        "id": "eUErrQTQwhlt",
        "outputId": "2550094f-857f-4f8a-a8b9-157c3163ad4c"
      },
      "source": [
        "print(\"Dimensions of training dataset: \", train_df.shape)\n",
        "print(\"Dimensions of testing dataset: \", test_df.shape)"
      ],
      "execution_count": 143,
      "outputs": [
        {
          "output_type": "stream",
          "text": [
            "Dimensions of training dataset:  (7613, 5)\n",
            "Dimensions of testing dataset:  (3263, 4)\n"
          ],
          "name": "stdout"
        }
      ]
    },
    {
      "cell_type": "code",
      "metadata": {
        "colab": {
          "base_uri": "https://localhost:8080/"
        },
        "id": "-M78DUb45EiB",
        "outputId": "d9be13de-2ea6-4211-e0df-4b7a361bd0d2"
      },
      "source": [
        "# Distribution of target variable in training dataset [BALANCED OR NOT]\n",
        "\n",
        "# As observed below, the dataset is moderately balanced\n",
        "\n",
        "disaster_tweets = train_df[train_df['target']==1].shape[0]\n",
        "not_disaster_tweets = train_df.shape[0] - disaster_tweets\n",
        "\n",
        "print(f'Percentage of distaster tweets: {round(((disaster_tweets/train_df.shape[0])*100),2)}%')\n",
        "print(f'Percentage of not distaster tweets: {round(((not_disaster_tweets/train_df.shape[0])*100),2)}%')"
      ],
      "execution_count": 144,
      "outputs": [
        {
          "output_type": "stream",
          "text": [
            "Percentage of distaster tweets: 42.97%\n",
            "Percentage of not distaster tweets: 57.03%\n"
          ],
          "name": "stdout"
        }
      ]
    },
    {
      "cell_type": "code",
      "metadata": {
        "colab": {
          "base_uri": "https://localhost:8080/"
        },
        "id": "obpyZJVf03EU",
        "outputId": "91cb8332-9de0-4d60-f075-329cdd3a8d45"
      },
      "source": [
        "# Checking the training dataset for null values \n",
        "\n",
        "# Location has significant amount of missing values and keyword also has some missing values as shown below\n",
        "\n",
        "train_df.isnull().sum()"
      ],
      "execution_count": 145,
      "outputs": [
        {
          "output_type": "execute_result",
          "data": {
            "text/plain": [
              "id             0\n",
              "keyword       61\n",
              "location    2533\n",
              "text           0\n",
              "target         0\n",
              "dtype: int64"
            ]
          },
          "metadata": {
            "tags": []
          },
          "execution_count": 145
        }
      ]
    },
    {
      "cell_type": "code",
      "metadata": {
        "colab": {
          "base_uri": "https://localhost:8080/"
        },
        "id": "Y6Ea1_vW03AU",
        "outputId": "236c61c3-ab89-4e3c-e655-146f34e8eaea"
      },
      "source": [
        "# Checking the testing dataset for null values \n",
        "\n",
        "# Same as the training dataset, the testing dataset has a signigincant amount of missing location feature values and also some missing values on the keyword feature \n",
        "\n",
        "test_df.isnull().sum()"
      ],
      "execution_count": 146,
      "outputs": [
        {
          "output_type": "execute_result",
          "data": {
            "text/plain": [
              "id             0\n",
              "keyword       26\n",
              "location    1105\n",
              "text           0\n",
              "dtype: int64"
            ]
          },
          "metadata": {
            "tags": []
          },
          "execution_count": 146
        }
      ]
    },
    {
      "cell_type": "markdown",
      "metadata": {
        "id": "4GeH5V4-346G"
      },
      "source": [
        "**Due to missing Values. . .**\n",
        "\n",
        "\n",
        "     'location' feature can be dropped due to high percentage of missing values. \n",
        "\n",
        "     'keyword' feature will be further analyzed for validation and potential for classifiying targets better\n",
        "\n",
        "  "
      ]
    },
    {
      "cell_type": "code",
      "metadata": {
        "id": "PthGfZSD021S"
      },
      "source": [
        "#Dropping location feature in both training and testing datasets \n",
        "\n",
        "train_df.drop(['location'], axis=1, inplace=True)\n",
        "test_df.drop(['location'], axis=1, inplace=True)"
      ],
      "execution_count": 147,
      "outputs": []
    },
    {
      "cell_type": "code",
      "metadata": {
        "colab": {
          "base_uri": "https://localhost:8080/",
          "height": 450
        },
        "id": "mI-9vTyv7Xi3",
        "outputId": "864bc59e-4688-415f-e440-d058a9160ae3"
      },
      "source": [
        "# Disaster tweets' keywords\n",
        "\n",
        "train_df[train_df['target']==1].groupby('keyword').count()"
      ],
      "execution_count": 151,
      "outputs": [
        {
          "output_type": "execute_result",
          "data": {
            "text/html": [
              "<div>\n",
              "<style scoped>\n",
              "    .dataframe tbody tr th:only-of-type {\n",
              "        vertical-align: middle;\n",
              "    }\n",
              "\n",
              "    .dataframe tbody tr th {\n",
              "        vertical-align: top;\n",
              "    }\n",
              "\n",
              "    .dataframe thead th {\n",
              "        text-align: right;\n",
              "    }\n",
              "</style>\n",
              "<table border=\"1\" class=\"dataframe\">\n",
              "  <thead>\n",
              "    <tr style=\"text-align: right;\">\n",
              "      <th></th>\n",
              "      <th>id</th>\n",
              "      <th>text</th>\n",
              "      <th>target</th>\n",
              "    </tr>\n",
              "    <tr>\n",
              "      <th>keyword</th>\n",
              "      <th></th>\n",
              "      <th></th>\n",
              "      <th></th>\n",
              "    </tr>\n",
              "  </thead>\n",
              "  <tbody>\n",
              "    <tr>\n",
              "      <th>ablaze</th>\n",
              "      <td>13</td>\n",
              "      <td>13</td>\n",
              "      <td>13</td>\n",
              "    </tr>\n",
              "    <tr>\n",
              "      <th>accident</th>\n",
              "      <td>24</td>\n",
              "      <td>24</td>\n",
              "      <td>24</td>\n",
              "    </tr>\n",
              "    <tr>\n",
              "      <th>airplane%20accident</th>\n",
              "      <td>30</td>\n",
              "      <td>30</td>\n",
              "      <td>30</td>\n",
              "    </tr>\n",
              "    <tr>\n",
              "      <th>ambulance</th>\n",
              "      <td>20</td>\n",
              "      <td>20</td>\n",
              "      <td>20</td>\n",
              "    </tr>\n",
              "    <tr>\n",
              "      <th>annihilated</th>\n",
              "      <td>11</td>\n",
              "      <td>11</td>\n",
              "      <td>11</td>\n",
              "    </tr>\n",
              "    <tr>\n",
              "      <th>...</th>\n",
              "      <td>...</td>\n",
              "      <td>...</td>\n",
              "      <td>...</td>\n",
              "    </tr>\n",
              "    <tr>\n",
              "      <th>wounded</th>\n",
              "      <td>26</td>\n",
              "      <td>26</td>\n",
              "      <td>26</td>\n",
              "    </tr>\n",
              "    <tr>\n",
              "      <th>wounds</th>\n",
              "      <td>10</td>\n",
              "      <td>10</td>\n",
              "      <td>10</td>\n",
              "    </tr>\n",
              "    <tr>\n",
              "      <th>wreck</th>\n",
              "      <td>7</td>\n",
              "      <td>7</td>\n",
              "      <td>7</td>\n",
              "    </tr>\n",
              "    <tr>\n",
              "      <th>wreckage</th>\n",
              "      <td>39</td>\n",
              "      <td>39</td>\n",
              "      <td>39</td>\n",
              "    </tr>\n",
              "    <tr>\n",
              "      <th>wrecked</th>\n",
              "      <td>3</td>\n",
              "      <td>3</td>\n",
              "      <td>3</td>\n",
              "    </tr>\n",
              "  </tbody>\n",
              "</table>\n",
              "<p>220 rows × 3 columns</p>\n",
              "</div>"
            ],
            "text/plain": [
              "                     id  text  target\n",
              "keyword                              \n",
              "ablaze               13    13      13\n",
              "accident             24    24      24\n",
              "airplane%20accident  30    30      30\n",
              "ambulance            20    20      20\n",
              "annihilated          11    11      11\n",
              "...                  ..   ...     ...\n",
              "wounded              26    26      26\n",
              "wounds               10    10      10\n",
              "wreck                 7     7       7\n",
              "wreckage             39    39      39\n",
              "wrecked               3     3       3\n",
              "\n",
              "[220 rows x 3 columns]"
            ]
          },
          "metadata": {
            "tags": []
          },
          "execution_count": 151
        }
      ]
    },
    {
      "cell_type": "code",
      "metadata": {
        "id": "lMEfgaUpCT6g"
      },
      "source": [
        "# exracting disaster and not disaster keywords\n",
        "\n",
        "not_disaster_keys = train_df[train_df['target']==0]['keyword'].tolist()\n",
        "disaster_keys = train_df[train_df['target']==1]['keyword'].tolist()"
      ],
      "execution_count": 152,
      "outputs": []
    },
    {
      "cell_type": "code",
      "metadata": {
        "id": "lNIxcpVBE80-"
      },
      "source": [
        "from collections import Counter \n",
        "\n",
        "# Keyword frequencies in disaster and not disaster tweets \n",
        "\n",
        "not_disaster_keys_counts_sorted = (Counter(not_disaster_keys)).most_common()\n",
        "disaster_keys_counts_sorted = (Counter(disaster_keys)).most_common()\n"
      ],
      "execution_count": 153,
      "outputs": []
    },
    {
      "cell_type": "code",
      "metadata": {
        "colab": {
          "base_uri": "https://localhost:8080/"
        },
        "id": "mEU37-1-CkS8",
        "outputId": "41e919ff-4f88-4827-89f0-0175722db0f4"
      },
      "source": [
        "# Top 20 most common keywords in not disaster tweets \n",
        "\n",
        "not_disaster_keys_counts_sorted[:20]"
      ],
      "execution_count": 154,
      "outputs": [
        {
          "output_type": "execute_result",
          "data": {
            "text/plain": [
              "[('body%20bags', 40),\n",
              " ('armageddon', 37),\n",
              " ('harm', 37),\n",
              " ('deluge', 36),\n",
              " ('ruin', 36),\n",
              " ('wrecked', 36),\n",
              " ('explode', 35),\n",
              " ('fear', 35),\n",
              " ('siren', 35),\n",
              " ('twister', 35),\n",
              " ('aftershock', 34),\n",
              " ('panic', 34),\n",
              " ('screaming', 34),\n",
              " ('blaze', 33),\n",
              " ('blazing', 33),\n",
              " ('blizzard', 33),\n",
              " ('crush', 33),\n",
              " ('sinking', 33),\n",
              " ('traumatised', 33),\n",
              " ('bloody', 32)]"
            ]
          },
          "metadata": {
            "tags": []
          },
          "execution_count": 154
        }
      ]
    },
    {
      "cell_type": "code",
      "metadata": {
        "colab": {
          "base_uri": "https://localhost:8080/"
        },
        "id": "BjIxQ5y4HOMb",
        "outputId": "1095e655-c0b6-4ef2-fc1c-1fa3827105be"
      },
      "source": [
        "# Top 20 most common keywords in disaster tweets \n",
        "\n",
        "disaster_keys_counts_sorted[:20]"
      ],
      "execution_count": 155,
      "outputs": [
        {
          "output_type": "execute_result",
          "data": {
            "text/plain": [
              "[(nan, 42),\n",
              " ('derailment', 39),\n",
              " ('outbreak', 39),\n",
              " ('wreckage', 39),\n",
              " ('debris', 37),\n",
              " ('oil%20spill', 37),\n",
              " ('typhoon', 37),\n",
              " ('evacuated', 32),\n",
              " ('rescuers', 32),\n",
              " ('suicide%20bomb', 32),\n",
              " ('suicide%20bombing', 32),\n",
              " ('nuclear%20disaster', 31),\n",
              " ('razed', 31),\n",
              " ('airplane%20accident', 30),\n",
              " ('earthquake', 30),\n",
              " ('suicide%20bomber', 30),\n",
              " ('bridge%20collapse', 29),\n",
              " ('collision', 29),\n",
              " ('wildfire', 29),\n",
              " ('buildings%20on%20fire', 28)]"
            ]
          },
          "metadata": {
            "tags": []
          },
          "execution_count": 155
        }
      ]
    },
    {
      "cell_type": "code",
      "metadata": {
        "colab": {
          "base_uri": "https://localhost:8080/"
        },
        "id": "cXOEtWQcHOHf",
        "outputId": "9939dc37-0783-4f8e-f7b9-41c65a8742df"
      },
      "source": [
        "# Common keywords in disaster and not disaster tweets \n",
        "\n",
        "common_keys = list(set(not_disaster_keys).intersection(set(disaster_keys)))\n",
        "print(f'Number of common words in disaster and not disaster tweets: {len(common_keys)}\\n')\n",
        "common_keys"
      ],
      "execution_count": 157,
      "outputs": [
        {
          "output_type": "stream",
          "text": [
            "Number of common words in disaster and not disaster tweets: 218\n",
            "\n"
          ],
          "name": "stdout"
        },
        {
          "output_type": "execute_result",
          "data": {
            "text/plain": [
              "[nan,\n",
              " 'collapse',\n",
              " 'drowning',\n",
              " 'panic',\n",
              " 'collision',\n",
              " 'blew%20up',\n",
              " 'crashed',\n",
              " 'death',\n",
              " 'cliff%20fall',\n",
              " 'obliteration',\n",
              " 'thunderstorm',\n",
              " 'body%20bag',\n",
              " 'collide',\n",
              " 'burning%20buildings',\n",
              " 'weapon',\n",
              " 'quarantine',\n",
              " 'exploded',\n",
              " 'crush',\n",
              " 'curfew',\n",
              " 'devastated',\n",
              " 'desolation',\n",
              " 'emergency',\n",
              " 'survived',\n",
              " 'fire',\n",
              " 'terrorist',\n",
              " 'volcano',\n",
              " 'wild%20fires',\n",
              " 'survive',\n",
              " 'detonate',\n",
              " 'electrocute',\n",
              " 'earthquake',\n",
              " 'war%20zone',\n",
              " 'engulfed',\n",
              " 'ambulance',\n",
              " 'danger',\n",
              " 'flames',\n",
              " 'demolished',\n",
              " 'police',\n",
              " 'collided',\n",
              " 'explode',\n",
              " 'oil%20spill',\n",
              " 'landslide',\n",
              " 'survivors',\n",
              " 'razed',\n",
              " 'injury',\n",
              " 'inundation',\n",
              " 'rainstorm',\n",
              " 'typhoon',\n",
              " 'wreck',\n",
              " 'destroyed',\n",
              " 'thunder',\n",
              " 'chemical%20emergency',\n",
              " 'flooding',\n",
              " 'disaster',\n",
              " 'displaced',\n",
              " 'mudslide',\n",
              " 'burning',\n",
              " 'rubble',\n",
              " 'avalanche',\n",
              " 'screams',\n",
              " 'hail',\n",
              " 'airplane%20accident',\n",
              " 'wounded',\n",
              " 'annihilated',\n",
              " 'flattened',\n",
              " 'destroy',\n",
              " 'emergency%20plan',\n",
              " 'injuries',\n",
              " 'hazard',\n",
              " 'deaths',\n",
              " 'suicide%20bombing',\n",
              " 'riot',\n",
              " 'trapped',\n",
              " 'accident',\n",
              " 'bridge%20collapse',\n",
              " 'bush%20fires',\n",
              " 'violent%20storm',\n",
              " 'blown%20up',\n",
              " 'hurricane',\n",
              " 'ruin',\n",
              " 'desolate',\n",
              " 'nuclear%20reactor',\n",
              " 'smoke',\n",
              " 'body%20bags',\n",
              " 'mayhem',\n",
              " 'trouble',\n",
              " 'blaze',\n",
              " 'rioting',\n",
              " 'mass%20murder',\n",
              " 'battle',\n",
              " 'rescued',\n",
              " 'hostage',\n",
              " 'first%20responders',\n",
              " 'crushed',\n",
              " 'deluge',\n",
              " 'eyewitness',\n",
              " 'attacked',\n",
              " 'fatalities',\n",
              " 'fear',\n",
              " 'buildings%20on%20fire',\n",
              " 'evacuate',\n",
              " 'derailed',\n",
              " 'bioterrorism',\n",
              " 'evacuated',\n",
              " 'radiation%20emergency',\n",
              " 'suicide%20bomb',\n",
              " 'screaming',\n",
              " 'attack',\n",
              " 'mass%20murderer',\n",
              " 'windstorm',\n",
              " 'obliterated',\n",
              " 'armageddon',\n",
              " 'tsunami',\n",
              " 'wrecked',\n",
              " 'wildfire',\n",
              " 'catastrophe',\n",
              " 'tornado',\n",
              " 'heat%20wave',\n",
              " 'terrorism',\n",
              " 'body%20bagging',\n",
              " 'fatality',\n",
              " 'floods',\n",
              " 'catastrophic',\n",
              " 'evacuation',\n",
              " 'lava',\n",
              " 'screamed',\n",
              " 'flood',\n",
              " 'tragedy',\n",
              " 'annihilation',\n",
              " 'nuclear%20disaster',\n",
              " 'casualties',\n",
              " 'destruction',\n",
              " 'damage',\n",
              " 'ablaze',\n",
              " 'inundated',\n",
              " 'pandemonium',\n",
              " 'sinkhole',\n",
              " 'burned',\n",
              " 'storm',\n",
              " 'crash',\n",
              " 'hijacker',\n",
              " 'arson',\n",
              " 'sirens',\n",
              " 'whirlwind',\n",
              " 'hazardous',\n",
              " 'cyclone',\n",
              " 'blood',\n",
              " 'twister',\n",
              " 'hostages',\n",
              " 'injured',\n",
              " 'natural%20disaster',\n",
              " 'hijack',\n",
              " 'obliterate',\n",
              " 'stretcher',\n",
              " 'epicentre',\n",
              " 'harm',\n",
              " 'forest%20fire',\n",
              " 'demolish',\n",
              " 'drowned',\n",
              " 'seismic',\n",
              " 'siren',\n",
              " 'fire%20truck',\n",
              " 'hellfire',\n",
              " 'military',\n",
              " 'drought',\n",
              " 'bombed',\n",
              " 'bleeding',\n",
              " 'trauma',\n",
              " 'rescue',\n",
              " 'traumatised',\n",
              " 'forest%20fires',\n",
              " 'blazing',\n",
              " 'sunk',\n",
              " 'devastation',\n",
              " 'detonation',\n",
              " 'wounds',\n",
              " 'explosion',\n",
              " 'casualty',\n",
              " 'outbreak',\n",
              " 'bomb',\n",
              " 'sandstorm',\n",
              " 'weapons',\n",
              " 'snowstorm',\n",
              " 'threat',\n",
              " 'lightning',\n",
              " 'bioterror',\n",
              " 'structural%20failure',\n",
              " 'derail',\n",
              " 'massacre',\n",
              " 'buildings%20burning',\n",
              " 'hijacking',\n",
              " 'meltdown',\n",
              " 'refugees',\n",
              " 'blizzard',\n",
              " 'sinking',\n",
              " 'suicide%20bomber',\n",
              " 'bloody',\n",
              " 'rescuers',\n",
              " 'army',\n",
              " 'apocalypse',\n",
              " 'blight',\n",
              " 'bombing',\n",
              " 'fatal',\n",
              " 'famine',\n",
              " 'dust%20storm',\n",
              " 'hailstorm',\n",
              " 'quarantined',\n",
              " 'collapsed',\n",
              " 'upheaval',\n",
              " 'emergency%20services',\n",
              " 'arsonist',\n",
              " 'dead',\n",
              " 'demolition',\n",
              " 'loud%20bang',\n",
              " 'deluged',\n",
              " 'electrocuted',\n",
              " 'panicking',\n",
              " 'drown']"
            ]
          },
          "metadata": {
            "tags": []
          },
          "execution_count": 157
        }
      ]
    },
    {
      "cell_type": "code",
      "metadata": {
        "colab": {
          "base_uri": "https://localhost:8080/"
        },
        "id": "vr-gz71tHODQ",
        "outputId": "1a5f15eb-0216-4372-a300-2614745d64e4"
      },
      "source": [
        "# Checking how many times the above common words appeared in non disaster tweets \n",
        "\n",
        "count = 0\n",
        "\n",
        "not_disaster_common_keys = sum([count+1 for word in not_disaster_keys if word in common_keys])\n",
        "print(f'There is an occurence of {not_disaster_common_keys} common keywords out of total {len(not_disaster_keys)} not disaster keywords.')"
      ],
      "execution_count": 158,
      "outputs": [
        {
          "output_type": "stream",
          "text": [
            "There is an occurence of 4308 common keywords out of total 4342 not disaster keywords.\n"
          ],
          "name": "stdout"
        }
      ]
    },
    {
      "cell_type": "code",
      "metadata": {
        "colab": {
          "base_uri": "https://localhost:8080/"
        },
        "id": "3M8fzbr4HN_d",
        "outputId": "df525dc8-7553-4c69-e9eb-5cac14653756"
      },
      "source": [
        "# Checking how many times the above common words appeared in non disaster tweets \n",
        "\n",
        "count = 0\n",
        "\n",
        "disaster_common_keys = sum([count+1 for word in disaster_keys if word in common_keys])\n",
        "print(f'There is an occurence of {disaster_common_keys} common keywords out of total {len(disaster_keys)} disaster keywords.')"
      ],
      "execution_count": 159,
      "outputs": [
        {
          "output_type": "stream",
          "text": [
            "There is an occurence of 3156 common keywords out of total 3271 disaster keywords.\n"
          ],
          "name": "stdout"
        }
      ]
    },
    {
      "cell_type": "markdown",
      "metadata": {
        "id": "EXyb1MQaNMGB"
      },
      "source": [
        "#### **As shown above . . .**\n",
        "\n",
        "\n",
        "      Disaster and Not disaster tweets share most of the keywords. \n",
        "\n",
        "      Keeping the keywords might otherwise mislead the classification algorithm. \n",
        "\n",
        "      Hence, dropping the 'keyword' feature would be a wise idea.\n",
        "\n"
      ]
    },
    {
      "cell_type": "code",
      "metadata": {
        "id": "r1kXN0UNNK2L"
      },
      "source": [
        "# Dropping tweets with missing 'keyword' feature\n",
        "\n",
        "train_df.drop(['keyword'], axis=1, inplace=True)\n",
        "test_df.drop(['keyword'], axis=1, inplace=True)"
      ],
      "execution_count": 161,
      "outputs": []
    },
    {
      "cell_type": "code",
      "metadata": {
        "colab": {
          "base_uri": "https://localhost:8080/",
          "height": 204
        },
        "id": "tFd_85ZO49LE",
        "outputId": "ce8af098-47af-47dd-8d7c-e578e2ea955b"
      },
      "source": [
        "train_df.head()"
      ],
      "execution_count": 162,
      "outputs": [
        {
          "output_type": "execute_result",
          "data": {
            "text/html": [
              "<div>\n",
              "<style scoped>\n",
              "    .dataframe tbody tr th:only-of-type {\n",
              "        vertical-align: middle;\n",
              "    }\n",
              "\n",
              "    .dataframe tbody tr th {\n",
              "        vertical-align: top;\n",
              "    }\n",
              "\n",
              "    .dataframe thead th {\n",
              "        text-align: right;\n",
              "    }\n",
              "</style>\n",
              "<table border=\"1\" class=\"dataframe\">\n",
              "  <thead>\n",
              "    <tr style=\"text-align: right;\">\n",
              "      <th></th>\n",
              "      <th>id</th>\n",
              "      <th>text</th>\n",
              "      <th>target</th>\n",
              "    </tr>\n",
              "  </thead>\n",
              "  <tbody>\n",
              "    <tr>\n",
              "      <th>0</th>\n",
              "      <td>1</td>\n",
              "      <td>Our Deeds are the Reason of this #earthquake M...</td>\n",
              "      <td>1</td>\n",
              "    </tr>\n",
              "    <tr>\n",
              "      <th>1</th>\n",
              "      <td>4</td>\n",
              "      <td>Forest fire near La Ronge Sask. Canada</td>\n",
              "      <td>1</td>\n",
              "    </tr>\n",
              "    <tr>\n",
              "      <th>2</th>\n",
              "      <td>5</td>\n",
              "      <td>All residents asked to 'shelter in place' are ...</td>\n",
              "      <td>1</td>\n",
              "    </tr>\n",
              "    <tr>\n",
              "      <th>3</th>\n",
              "      <td>6</td>\n",
              "      <td>13,000 people receive #wildfires evacuation or...</td>\n",
              "      <td>1</td>\n",
              "    </tr>\n",
              "    <tr>\n",
              "      <th>4</th>\n",
              "      <td>7</td>\n",
              "      <td>Just got sent this photo from Ruby #Alaska as ...</td>\n",
              "      <td>1</td>\n",
              "    </tr>\n",
              "  </tbody>\n",
              "</table>\n",
              "</div>"
            ],
            "text/plain": [
              "   id                                               text  target\n",
              "0   1  Our Deeds are the Reason of this #earthquake M...       1\n",
              "1   4             Forest fire near La Ronge Sask. Canada       1\n",
              "2   5  All residents asked to 'shelter in place' are ...       1\n",
              "3   6  13,000 people receive #wildfires evacuation or...       1\n",
              "4   7  Just got sent this photo from Ruby #Alaska as ...       1"
            ]
          },
          "metadata": {
            "tags": []
          },
          "execution_count": 162
        }
      ]
    },
    {
      "cell_type": "code",
      "metadata": {
        "colab": {
          "base_uri": "https://localhost:8080/",
          "height": 204
        },
        "id": "DwxI6xFcwdBy",
        "outputId": "bd6852c4-6767-4da1-b545-4c8321a0aefe"
      },
      "source": [
        "test_df.head()"
      ],
      "execution_count": 163,
      "outputs": [
        {
          "output_type": "execute_result",
          "data": {
            "text/html": [
              "<div>\n",
              "<style scoped>\n",
              "    .dataframe tbody tr th:only-of-type {\n",
              "        vertical-align: middle;\n",
              "    }\n",
              "\n",
              "    .dataframe tbody tr th {\n",
              "        vertical-align: top;\n",
              "    }\n",
              "\n",
              "    .dataframe thead th {\n",
              "        text-align: right;\n",
              "    }\n",
              "</style>\n",
              "<table border=\"1\" class=\"dataframe\">\n",
              "  <thead>\n",
              "    <tr style=\"text-align: right;\">\n",
              "      <th></th>\n",
              "      <th>id</th>\n",
              "      <th>text</th>\n",
              "    </tr>\n",
              "  </thead>\n",
              "  <tbody>\n",
              "    <tr>\n",
              "      <th>0</th>\n",
              "      <td>0</td>\n",
              "      <td>Just happened a terrible car crash</td>\n",
              "    </tr>\n",
              "    <tr>\n",
              "      <th>1</th>\n",
              "      <td>2</td>\n",
              "      <td>Heard about #earthquake is different cities, s...</td>\n",
              "    </tr>\n",
              "    <tr>\n",
              "      <th>2</th>\n",
              "      <td>3</td>\n",
              "      <td>there is a forest fire at spot pond, geese are...</td>\n",
              "    </tr>\n",
              "    <tr>\n",
              "      <th>3</th>\n",
              "      <td>9</td>\n",
              "      <td>Apocalypse lighting. #Spokane #wildfires</td>\n",
              "    </tr>\n",
              "    <tr>\n",
              "      <th>4</th>\n",
              "      <td>11</td>\n",
              "      <td>Typhoon Soudelor kills 28 in China and Taiwan</td>\n",
              "    </tr>\n",
              "  </tbody>\n",
              "</table>\n",
              "</div>"
            ],
            "text/plain": [
              "   id                                               text\n",
              "0   0                 Just happened a terrible car crash\n",
              "1   2  Heard about #earthquake is different cities, s...\n",
              "2   3  there is a forest fire at spot pond, geese are...\n",
              "3   9           Apocalypse lighting. #Spokane #wildfires\n",
              "4  11      Typhoon Soudelor kills 28 in China and Taiwan"
            ]
          },
          "metadata": {
            "tags": []
          },
          "execution_count": 163
        }
      ]
    },
    {
      "cell_type": "code",
      "metadata": {
        "id": "IdJOris-ypIE"
      },
      "source": [
        ""
      ],
      "execution_count": null,
      "outputs": []
    }
  ]
}